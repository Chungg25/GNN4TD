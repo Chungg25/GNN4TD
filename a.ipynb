{
 "cells": [
  {
   "cell_type": "code",
   "execution_count": 13,
   "id": "749301bf",
   "metadata": {},
   "outputs": [],
   "source": [
    "import h5py\n",
    "import pandas as pd\n",
    "import numpy as np\n",
    "from scipy.spatial.distance import cdist\n",
    "\n",
    "file_path = 'data/nogrid\\DC/bike_data.h5'\n",
    "\n",
    "class StandardScaler(object):\n",
    "    def __init__(self):\n",
    "        pass\n",
    "\n",
    "    def transform(self, mean, std, X):\n",
    "        X = 1. * (X - mean) / std\n",
    "        return X\n",
    "\n",
    "    def inverse_transform(self, mean, std, X):\n",
    "        X = X * std + mean\n",
    "        return X\n",
    "\n",
    "def random_walk_matrix(w) -> np.matrix:\n",
    "    d = np.array(w.sum(1))\n",
    "    d_inv = np.power(d, -1).flatten()\n",
    "    d_inv[np.isinf(d_inv)] = 0.\n",
    "    d_mat_inv = np.eye(d_inv.shape[0]) * d_inv\n",
    "    return d_mat_inv.dot(w)\n",
    "data = []\n",
    "with h5py.File(file_path, 'r') as f:\n",
    "    # Đọc dữ liệu từ hai dataset\n",
    "    bike_pick = f['bike_pick'][:]\n",
    "    bike_drop = f['bike_drop'][:]\n",
    "\n",
    "\n",
    "    data1 = np.stack([bike_pick, bike_drop], axis=2)\n",
    "\n",
    "    mean, std = np.mean(data1), np.std(data1)\n",
    "\n",
    "    scaler = StandardScaler()\n",
    "    data1 = scaler.transform(mean, std, data1)\n",
    "    data.append(data1)\n",
    "\n",
    "\n",
    "data = np.concatenate(data, axis=1).transpose((0,2,1))\n",
    "data = data[:-(672+672)]\n",
    "T, input_dim, N = data.shape\n",
    "inputs = data.reshape(-1, N)\n",
    "u, s, v = np.linalg.svd(inputs)\n",
    "\n",
    "w = np.diag(s[:25]).dot(v[:25,:]).T\n",
    "graph = cdist(w, w, metric='euclidean')\n",
    "support = graph * -1 / np.std(graph) ** 2\n",
    "support = np.exp(support)\n",
    "\n",
    "support = support - np.identity(support.shape[0])\n",
    "\n",
    "support = random_walk_matrix(support)\n",
    "support += np.identity(support.shape[0])\n",
    "\n",
    "\n",
    "adjacency_path = f\"dis_bb.csv\"\n",
    "df = pd.DataFrame(support)\n",
    "df.to_csv(adjacency_path, index=False, header=False, float_format='%.18e')\n",
    "\n",
    "\n",
    "bike_pick = bike_pick.astype(np.float64)\n",
    "bike_drop = bike_drop.astype(np.float64)\n",
    "\n",
    "\n",
    "# Chuyển thành DataFrame\n",
    "df_pick = pd.DataFrame(bike_pick)\n",
    "df_drop = pd.DataFrame(bike_drop)\n",
    "\n",
    "# Ghi ra file CSV\n",
    "df_pick.to_csv('bike_pick.csv', index=False, header=False, float_format='%.18e')\n",
    "df_drop.to_csv('bike_drop.csv', index=False, header=False, float_format='%.18e')\n"
   ]
  },
  {
   "cell_type": "code",
   "execution_count": 16,
   "id": "0fb25e8e",
   "metadata": {},
   "outputs": [
    {
     "name": "stdout",
     "output_type": "stream",
     "text": [
      "Dataset: bike_drop, shape: (4416, 381), dtype: int64\n",
      "Dataset: bike_pick, shape: (4416, 381), dtype: int64\n"
     ]
    }
   ],
   "source": [
    "import h5py\n",
    "\n",
    "file_path = 'data/nogrid\\BOSTON/bike_data.h5'\n",
    "with h5py.File(file_path, 'r') as f:\n",
    "    # Hàm duyệt và in cấu trúc file\n",
    "    def print_structure(name, obj):\n",
    "        if isinstance(obj, h5py.Dataset):\n",
    "            print(f\"Dataset: {name}, shape: {obj.shape}, dtype: {obj.dtype}\")\n",
    "        elif isinstance(obj, h5py.Group):\n",
    "            print(f\"Group: {name}\")\n",
    "    \n",
    "    f.visititems(print_structure)\n",
    "\n"
   ]
  }
 ],
 "metadata": {
  "kernelspec": {
   "display_name": "Python 3",
   "language": "python",
   "name": "python3"
  },
  "language_info": {
   "codemirror_mode": {
    "name": "ipython",
    "version": 3
   },
   "file_extension": ".py",
   "mimetype": "text/x-python",
   "name": "python",
   "nbconvert_exporter": "python",
   "pygments_lexer": "ipython3",
   "version": "3.11.0"
  }
 },
 "nbformat": 4,
 "nbformat_minor": 5
}
