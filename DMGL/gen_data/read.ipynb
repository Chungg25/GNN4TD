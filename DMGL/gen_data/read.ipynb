{
 "cells": [
  {
   "cell_type": "code",
   "execution_count": 1,
   "id": "db974791",
   "metadata": {},
   "outputs": [],
   "source": [
    "import h5py\n",
    "import numpy as np"
   ]
  },
  {
   "cell_type": "code",
   "execution_count": 2,
   "id": "bf8c9ae0",
   "metadata": {},
   "outputs": [],
   "source": [
    "def add_window_horizon(data, window=12, horizon=12, single=False):\n",
    "    '''\n",
    "    :param data: shape [B, ...]\n",
    "    :param window:\n",
    "    :param horizon:\n",
    "    :return: X is [B, W, ...], Y is [B, H, ...]\n",
    "    '''\n",
    "    length = len(data)\n",
    "    end_index = length - horizon - window + 1\n",
    "    X = []      #windows\n",
    "    Y = []      #horizon\n",
    "    index = 0\n",
    "    if single:\n",
    "        while index < end_index:\n",
    "            X.append(data[index:index+window])\n",
    "            Y.append(data[index+window+horizon-1:index+window+horizon])\n",
    "            index = index + 1\n",
    "    else:\n",
    "        while index < end_index:\n",
    "            X.append(data[index:index+window])\n",
    "            Y.append(data[index+window:index+window+horizon])\n",
    "            index = index + 1\n",
    "    X = np.array(X)\n",
    "    Y = np.array(Y)\n",
    "    return X, Y\n",
    "\n",
    "def split_data_by_ratio(data, val_ratio, test_ratio):\n",
    "    data_len = data.shape[0]\n",
    "    test_data = data[-int(data_len*test_ratio):]\n",
    "    val_data = data[-int(data_len*(test_ratio+val_ratio)):-int(data_len*test_ratio)]\n",
    "    train_data = data[:-int(data_len*(test_ratio+val_ratio))]\n",
    "    return train_data, val_data, test_data\n",
    "\n",
    "def split_data_by_day(data, val_day, test_day, interval_per_day):\n",
    "    test_data = data[-interval_per_day * test_day:]\n",
    "    val_data = data[-interval_per_day * (test_day + val_day): -interval_per_day * test_day]\n",
    "    train_data = data[:-interval_per_day * (test_day + val_day)]\n",
    "    return train_data, val_data, test_data\n",
    "\n",
    "def split_train_val_test(data_name, type):\n",
    "    print('='*30 + f' {data_name} ' + '='*30)\n",
    "    data = h5py.File(f'../data/h5data/{data_name}.h5')\n",
    "    pick = np.expand_dims(data[type + '_pick'][:], axis=-1)\n",
    "    drop = np.expand_dims(data[type + '_drop'][:], axis=-1)\n",
    "    new_data = np.concatenate([pick, drop], axis=-1)\n",
    "    print(f'Data shape: {new_data.shape}')\n",
    "\n",
    "    x, y = add_window_horizon(new_data)\n",
    "    print(x.shape, y.shape)\n",
    "    x_train, x_val, x_test = split_data_by_day(x, 14, 14, 48)\n",
    "    y_train, y_val, y_test = split_data_by_day(y, 14, 14, 48)\n",
    "    print(f'Shape of x_train, x_val, x_test: {x_train.shape}, {x_val.shape}, {x_test.shape}')\n",
    "    \n",
    "    np.savez_compressed(f'../data/{data_name}/train.npz', x=x_train, y=y_train)\n",
    "    np.savez_compressed(f'../data/{data_name}/val.npz', x=x_val, y=y_val)\n",
    "    np.savez_compressed(f'../data/{data_name}/test.npz', x=x_test, y=y_test)"
   ]
  },
  {
   "cell_type": "code",
   "execution_count": 3,
   "id": "896b9d1e",
   "metadata": {},
   "outputs": [
    {
     "name": "stdout",
     "output_type": "stream",
     "text": [
      "============================== bos-bike ==============================\n",
      "Data shape: (4416, 201, 2)\n",
      "(4393, 12, 201, 2) (4393, 12, 201, 2)\n",
      "Shape of x_train, x_val, x_test: (3049, 12, 201, 2), (672, 12, 201, 2), (672, 12, 201, 2)\n",
      "============================== bay-bike ==============================\n",
      "Data shape: (4416, 133, 2)\n",
      "(4393, 12, 133, 2) (4393, 12, 133, 2)\n",
      "Shape of x_train, x_val, x_test: (3049, 12, 133, 2), (672, 12, 133, 2), (672, 12, 133, 2)\n",
      "============================== dc-bike ==============================\n",
      "Data shape: (4416, 117, 2)\n",
      "(4393, 12, 117, 2) (4393, 12, 117, 2)\n",
      "Shape of x_train, x_val, x_test: (3049, 12, 117, 2), (672, 12, 117, 2), (672, 12, 117, 2)\n"
     ]
    }
   ],
   "source": [
    "split_train_val_test('bos-bike', 'bike')\n",
    "split_train_val_test('bay-bike', 'bike')\n",
    "split_train_val_test('dc-bike', 'bike')"
   ]
  }
 ],
 "metadata": {
  "kernelspec": {
   "display_name": "Python 3",
   "language": "python",
   "name": "python3"
  },
  "language_info": {
   "codemirror_mode": {
    "name": "ipython",
    "version": 3
   },
   "file_extension": ".py",
   "mimetype": "text/x-python",
   "name": "python",
   "nbconvert_exporter": "python",
   "pygments_lexer": "ipython3",
   "version": "3.11.6"
  }
 },
 "nbformat": 4,
 "nbformat_minor": 5
}
