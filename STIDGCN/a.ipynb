{
 "cells": [
  {
   "cell_type": "code",
   "execution_count": null,
   "id": "7ac68576",
   "metadata": {},
   "outputs": [
    {
     "name": "stdout",
     "output_type": "stream",
     "text": [
      "x: shape = (2606, 12, 250, 3)\n",
      "y: shape = (2606, 12, 250, 1)\n",
      "x_offsets: shape = (12, 1)\n",
      "y_offsets: shape = (12, 1)\n"
     ]
    }
   ],
   "source": [
    "import numpy as np\n",
    "\n",
    "# Đường dẫn tới file .npz\n",
    "file_path = 'data/bike_drop/train.npz'\n",
    "\n",
    "# Đọc file .npz\n",
    "data = np.load(file_path)\n",
    "\n",
    "# In tên và hình dạng của từng mảng trong file\n",
    "for key in data.files:\n",
    "    print(f\"{key}: shape = {data[key].shape}\")\n",
    "  "
   ]
  },
  {
   "cell_type": "code",
   "execution_count": 6,
   "id": "61bbe783",
   "metadata": {},
   "outputs": [],
   "source": [
    "import os\n",
    "import h5py\n",
    "import numpy as np\n",
    "import pandas as pd\n",
    "\n",
    "def get_data_loader_to_npz(\n",
    "    data_category: list,\n",
    "    X_list: list,\n",
    "    Y_list: list,\n",
    "    _len: list,\n",
    "    city,\n",
    "    output_dir: str,\n",
    "    add_time_in_day=True,\n",
    "    add_day_in_week=True\n",
    "):\n",
    "    val_len, test_len = _len[0], _len[1]\n",
    "\n",
    "    for mode in ['pick', 'drop']:\n",
    "        data = []\n",
    "        for category in data_category:\n",
    "            with h5py.File(f\"data/nogrid/{city}/{category}_data.h5\", 'r') as hf:\n",
    "                data_arr = hf[f'{category}_{mode}'][:]\n",
    "            data.append(data_arr)  # (T, N)\n",
    "        data = np.concatenate(data, axis=1)  # (T, N_total)\n",
    "\n",
    "        # Tạo time index cho feature thời gian\n",
    "        T = data.shape[0]\n",
    "        start_time = '2016-04-01 00:00:00' if 'NYC' in city else '2024-07-01 00:00:00'\n",
    "        time_index = pd.date_range(start=start_time, periods=T, freq='30min')\n",
    "\n",
    "        # Feature engineering\n",
    "        data = np.expand_dims(data, axis=-1)  # (T, N, 1)\n",
    "        x_feature_list = [data]\n",
    "\n",
    "        if add_time_in_day:\n",
    "            time_ind = (time_index.values - time_index.values.astype(\"datetime64[D]\")) / np.timedelta64(1, \"D\")\n",
    "            time_in_day = np.tile(time_ind, [data.shape[1], 1]).T[..., None]  # (T, N, 1)\n",
    "            x_feature_list.append(time_in_day)\n",
    "\n",
    "        if add_day_in_week:\n",
    "            dow = time_index.dayofweek\n",
    "            dow_tiled = np.tile(dow, [data.shape[1], 1]).T[..., None]  # (T, N, 1)\n",
    "            x_feature_list.append(dow_tiled)\n",
    "\n",
    "        data_feat = np.concatenate(x_feature_list, axis=-1)  # (T, N, F)\n",
    "\n",
    "        # Tạo sample X, Y\n",
    "        X_, Y_ = [], []\n",
    "        for i in range(max(X_list), data_feat.shape[0] - max(Y_list)):\n",
    "            X_.append([data_feat[i - j] for j in X_list])\n",
    "            Y_.append([data_feat[i + j] for j in Y_list])\n",
    "        X_ = np.asarray(X_)  # (samples, T_in, N, F)\n",
    "        Y_ = np.asarray(Y_)  # (samples, T_out, N, F)\n",
    "\n",
    "        # Tách train/val/test\n",
    "        num_total = X_.shape[0]\n",
    "        num_val, num_test = val_len, test_len\n",
    "        num_train = num_total - num_val - num_test\n",
    "\n",
    "        splits = {\n",
    "            'train': (0, num_train),\n",
    "            'val': (num_train, num_train + num_val),\n",
    "            'test': (num_train + num_val, num_total)\n",
    "        }\n",
    "\n",
    "        # Lưu vào folder NYC/taxi_pick/train.npz, NYC/taxi_drop/train.npz, ...\n",
    "        for category in data_category:\n",
    "            mode_folder = os.path.join(output_dir, f\"{category}_{mode}\")\n",
    "            os.makedirs(mode_folder, exist_ok=True)\n",
    "            for split, (start, end) in splits.items():\n",
    "                x_split = X_[start:end]\n",
    "                y_split = Y_[start:end]\n",
    "                np.savez_compressed(\n",
    "                    os.path.join(mode_folder, f\"{split}.npz\"),\n",
    "                    x=x_split,\n",
    "                    y=y_split\n",
    "                )\n",
    "                print(f\"Saved {mode_folder}/{split}.npz: x={x_split.shape}, y={y_split.shape}\")\n",
    "            break  # chỉ chạy 1 lần cho mỗi mode với tất cả category\n"
   ]
  },
  {
   "cell_type": "code",
   "execution_count": 7,
   "id": "e81cffe1",
   "metadata": {},
   "outputs": [
    {
     "name": "stdout",
     "output_type": "stream",
     "text": [
      "Saved NYC\\taxi_pick/train.npz: x=(3001, 12, 266, 3), y=(3001, 12, 266, 3)\n",
      "Saved NYC\\taxi_pick/val.npz: x=(672, 12, 266, 3), y=(672, 12, 266, 3)\n",
      "Saved NYC\\taxi_pick/test.npz: x=(672, 12, 266, 3), y=(672, 12, 266, 3)\n",
      "Saved NYC\\taxi_drop/train.npz: x=(3001, 12, 266, 3), y=(3001, 12, 266, 3)\n",
      "Saved NYC\\taxi_drop/val.npz: x=(672, 12, 266, 3), y=(672, 12, 266, 3)\n",
      "Saved NYC\\taxi_drop/test.npz: x=(672, 12, 266, 3), y=(672, 12, 266, 3)\n"
     ]
    }
   ],
   "source": [
    "get_data_loader_to_npz(\n",
    "    data_category=[\"taxi\"],\n",
    "    X_list=list(range(12)),\n",
    "    Y_list=list(range(1, 13)),\n",
    "    _len=[672, 672],\n",
    "    city=\"NYC\",\n",
    "    output_dir=\"NYC\"\n",
    ")"
   ]
  },
  {
   "cell_type": "code",
   "execution_count": 9,
   "id": "2509e1b0",
   "metadata": {},
   "outputs": [
    {
     "name": "stdout",
     "output_type": "stream",
     "text": [
      "x1[0:5, 0, 0, 1]:\n",
      "[129. 140. 131. 103. 107.]\n"
     ]
    }
   ],
   "source": [
    "import numpy as np\n",
    "\n",
    "# Load file\n",
    "data1 = np.load('NYC/taxi_pick/test.npz')\n",
    "x1 = data1['x']  # shape: (672, 12, 271, 3)\n",
    "y1 = data1['y']  # shape: (672, 12, 271, 1)\n",
    "\n",
    "\n",
    "# Lấy chiều thứ 1 của chiều cuối\n",
    "x1_feat1 = x1[:, :, :, 0]\n",
    "\n",
    "print(\"x1[0:5, 0, 0, 1]:\")\n",
    "print(x1_feat1[0:5, 0, 0])\n"
   ]
  }
 ],
 "metadata": {
  "kernelspec": {
   "display_name": "base",
   "language": "python",
   "name": "python3"
  },
  "language_info": {
   "codemirror_mode": {
    "name": "ipython",
    "version": 3
   },
   "file_extension": ".py",
   "mimetype": "text/x-python",
   "name": "python",
   "nbconvert_exporter": "python",
   "pygments_lexer": "ipython3",
   "version": "3.11.5"
  }
 },
 "nbformat": 4,
 "nbformat_minor": 5
}
