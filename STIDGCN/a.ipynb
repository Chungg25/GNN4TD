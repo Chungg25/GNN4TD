{
 "cells": [
  {
   "cell_type": "code",
   "execution_count": 4,
   "id": "7ac68576",
   "metadata": {},
   "outputs": [
    {
     "name": "stdout",
     "output_type": "stream",
     "text": [
      "x: shape = (672, 12, 250, 4)\n",
      "y: shape = (672, 12, 250, 2)\n",
      "x_offsets: shape = (12, 1)\n",
      "y_offsets: shape = (12, 1)\n"
     ]
    }
   ],
   "source": [
    "import numpy as np\n",
    "\n",
    "# Đường dẫn tới file .npz\n",
    "file_path = 'data/NYC/bike_combined/test.npz'\n",
    "\n",
    "# Đọc file .npz\n",
    "data = np.load(file_path)\n",
    "\n",
    "# In tên và hình dạng của từng mảng trong file\n",
    "for key in data.files:\n",
    "    print(f\"{key}: shape = {data[key].shape}\")\n"
   ]
  }
 ],
 "metadata": {
  "kernelspec": {
   "display_name": "base",
   "language": "python",
   "name": "python3"
  },
  "language_info": {
   "codemirror_mode": {
    "name": "ipython",
    "version": 3
   },
   "file_extension": ".py",
   "mimetype": "text/x-python",
   "name": "python",
   "nbconvert_exporter": "python",
   "pygments_lexer": "ipython3",
   "version": "3.11.5"
  }
 },
 "nbformat": 4,
 "nbformat_minor": 5
}
